{
  "cells": [
    {
      "cell_type": "markdown",
      "metadata": {
        "id": "XQBne1gCxxoy"
      },
      "source": [
        "Block chain\n",
        "\n",
        "Block chain: In simple words, Blockchain can be defined as a chain of the block that contains information."
      ]
    },
    {
      "cell_type": "code",
      "execution_count": 3,
      "metadata": {
        "id": "WQTTCJLo15X_"
      },
      "outputs": [],
      "source": [
        "#Project Starts:"
      ]
    },
    {
      "cell_type": "markdown",
      "metadata": {
        "id": "u7i5qiYA1v76"
      },
      "source": [
        "we will be using \"hash function \" to create fingerprints for each transactions , the hash function will link each out block chain to other block . To make this easier to use, we’ll define a helper function to wrap the python hash function that we’re using"
      ]
    },
    {
      "cell_type": "code",
      "execution_count": 1,
      "metadata": {
        "id": "zfzTZO6SxdLP"
      },
      "outputs": [],
      "source": [
        "import hashlib,json,sys\n"
      ]
    },
    {
      "cell_type": "code",
      "execution_count": 2,
      "metadata": {
        "id": "K-B516tAx5s0"
      },
      "outputs": [],
      "source": [
        "def hashMe(msg=\"\"):\n",
        "    # For convenience, this is a helper function that wraps our hashing algorithm\n",
        "    if type(msg)!=str:\n",
        "        msg = json.dumps(msg,sort_keys=True)  # If we don't sort keys, we can't guarantee repeatability!\n",
        "        \n",
        "    if sys.version_info.major == 2:\n",
        "        return unicode(hashlib.sha256(msg).hexdigest(),'utf-8')\n",
        "    else:\n",
        "        return hashlib.sha256(str(msg).encode('utf-8')).hexdigest()"
      ]
    },
    {
      "cell_type": "markdown",
      "metadata": {
        "id": "RkGzm7Gp1_8Z"
      },
      "source": [
        "Next, we want to create a function to generate exchanges between vinny and kinny. We’ll indicate withdrawals with negative numbers, and deposits with positive numbers. We’ll construct our transactions to always be between the two users of our system, and make sure that the deposit is the same magnitude as the withdrawal- i.e. that we’re neither creating nor destroying money."
      ]
    },
    {
      "cell_type": "code",
      "execution_count": 4,
      "metadata": {
        "id": "RHM_VNJ71ipU"
      },
      "outputs": [],
      "source": [
        "import random\n",
        "random.seed(0)\n"
      ]
    },
    {
      "cell_type": "code",
      "execution_count": 5,
      "metadata": {
        "id": "J74P-tj52CjP"
      },
      "outputs": [],
      "source": [
        "def makeTransaction(maxValue=3):\n",
        "    # This will create valid transactions in the range of (1,maxValue)\n",
        "    sign      = int(random.getrandbits(1))*2 - 1   # This will randomly choose -1 or 1\n",
        "    amount    = random.randint(1,maxValue)\n",
        "    vinnyPays = sign * amount\n",
        "    kinnyPays   = -1 * vinnyPays\n",
        "    # By construction, this will always return transactions that respect the conservation of tokens.\n",
        "    # However, note that we have not done anything to check whether these overdraft an account\n",
        "    return {u'Vinny':vinnyPays,u'kinny':kinnyPays}"
      ]
    },
    {
      "cell_type": "markdown",
      "metadata": {
        "id": "WjeV9XTg2GVe"
      },
      "source": [
        "lets create transcations\n"
      ]
    },
    {
      "cell_type": "code",
      "execution_count": 6,
      "metadata": {
        "id": "NVn89Iva2Eac"
      },
      "outputs": [],
      "source": [
        "txnBuffer = [makeTransaction() for i in range(30)]"
      ]
    },
    {
      "cell_type": "code",
      "execution_count": null,
      "metadata": {
        "id": "GZP3Aw-12L6j"
      },
      "outputs": [],
      "source": []
    }
  ],
  "metadata": {
    "colab": {
      "name": "BlockchainProject_D.ipynb",
      "provenance": []
    },
    "kernelspec": {
      "display_name": "Python 3",
      "name": "python3"
    },
    "language_info": {
      "name": "python"
    }
  },
  "nbformat": 4,
  "nbformat_minor": 0
}
